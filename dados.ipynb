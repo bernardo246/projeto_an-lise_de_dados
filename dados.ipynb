{
 "cells": [
  {
   "cell_type": "code",
   "execution_count": null,
   "id": "469285bf",
   "metadata": {},
   "outputs": [],
   "source": [
    "import pandas as pd\n",
    "import plotly.express as px\n",
    "import numpy as np\n",
    "tabela=pd.read_excel(\"Base de Vendas.xlsx\")\n",
    "#display(tabela) \n",
    "#manipulação da tabela \n",
    "tabela[\"Valor Final\"]=np.ceil(tabela[\"Quantidade\"]*tabela[\"Valor da Venda\"])\n",
    "tabela.drop(\"Valor da Venda\", axis=1, inplace=True)\n",
    "tabela[\"Data da Venda\"]=pd.to_datetime(tabela[\"Data da Venda\"])\n",
    "tabela[\"AnoMes\"] = tabela[\"Data da Venda\"].dt.to_period(\"M\").astype(str)\n",
    "tabela.drop(\"Quantidade\", axis=1, inplace=True)\n",
    "tabela.drop(\"Data da Venda\", axis=1, inplace=True)\n",
    "tabela.drop(\"Nome do Produto\", axis=1, inplace=True)\n",
    "tabela.drop(\"Nome da Loja\",axis=1,inplace=True)\n",
    "#display(tabela) tire o '#' se quiser ver o antes e depois da tabela\n",
    "\n",
    "#quantidade por categoria\n",
    "analise_classificacao=tabela.groupby([\"Categoria do Produto\",\"Marca do Produto\"]).size().reset_index(name=\"categoria x marca\")\n",
    "soma_por_classidicacao=analise_classificacao.groupby(\"Categoria do Produto\")[\"categoria x marca\"].sum().reset_index(name=\"quantidade por categoria\")\n",
    "grafico_quantidade_por_categoria=px.bar(soma_por_classidicacao,x=\"Categoria do Produto\", y=\"quantidade por categoria\", title=\"Quantidade de produtos por Categoria\")\n",
    "display(grafico_quantidade_por_categoria)\n",
    "#faturamento por categoria\n",
    "analise_faturamento_por_classificacao=tabela.groupby([\"Categoria do Produto\",\"Valor Final\"]).size().reset_index(name=\"categoria x valor\")\n",
    "analise_faturamento_por_classificacao[\"categoria x valor\"]=analise_faturamento_por_classificacao[\"categoria x valor\"]*analise_faturamento_por_classificacao[\"Valor Final\"]\n",
    "soma_faturamento_por_classificacao=analise_faturamento_por_classificacao.groupby(\"Categoria do Produto\")[\"categoria x valor\"].sum().reset_index(name=\"faturamento por categoria\")\n",
    "grafico_soma_faturamento_por_classificacao=px.bar(soma_faturamento_por_classificacao,x=\"Categoria do Produto\",y=\"faturamento por categoria\", color=\"faturamento por categoria\", title=\"Faturamento por Categoria\")\n",
    "display(grafico_soma_faturamento_por_classificacao)\n",
    "#faturamento por marca \n",
    "analise_class_x_valor=tabela.groupby([\"Marca do Produto\",\"Valor Final\"]).size().reset_index(name=\"categoria x valor\")\n",
    "analise_class_x_valor[\"marca\"]=analise_class_x_valor[\"categoria x valor\"]*analise_class_x_valor[\"Valor Final\"]\n",
    "soma_por_marca=analise_class_x_valor.groupby(\"Marca do Produto\")[\"marca\"].sum().reset_index(name=\"faturamento marca\")\n",
    "grafico_faturamento=px.bar(soma_por_marca, x=\"Marca do Produto\", y=\"faturamento marca\", color=\"faturamento marca\", title=\"Quantidade de faturamento por Marca\")\n",
    "display(grafico_faturamento)\n",
    "# relação faturamento por período de tempo\n",
    "analise_faturamento_por_mes=tabela.groupby([\"AnoMes\",\"Valor Final\"]).size().reset_index(name=\"ocorrncia de faturamento por mes\")\n",
    "analise_faturamento_por_mes[\"faturamento por mes\"]=analise_faturamento_por_mes[\"ocorrncia de faturamento por mes\"]*analise_faturamento_por_mes[\"Valor Final\"]\n",
    "faturamento=analise_faturamento_por_mes.groupby(\"AnoMes\")[\"faturamento por mes\"].sum().reset_index(name=\"faturamento por mes\")\n",
    "grafico_faturamento_por_mes=px.line(faturamento, x=\"AnoMes\", y=\"faturamento por mes\", title=\"Faturamento por Mês\", markers=True)\n",
    "display(grafico_faturamento_por_mes)\n",
    "# relação região e faturamento\n",
    "analise_regiao_x_faturamento=tabela.groupby([\"UF da Compra\",\"Valor Final\"]).size().reset_index(name=\"frequência\")\n",
    "analise_regiao_x_faturamento[\"Valor Final\"]=analise_regiao_x_faturamento[\"Valor Final\"]*analise_regiao_x_faturamento[\"frequência\"]\n",
    "soma_analise_regiao_x_faturamento=analise_regiao_x_faturamento.groupby(\"UF da Compra\")[\"Valor Final\"].sum().reset_index(name=\"faturamento por região\")\n",
    "grafico_soma_analise_regiao_x_faturamento=px.bar(soma_analise_regiao_x_faturamento,x=\"UF da Compra\",y=\"faturamento por região\",title=\"Faturamento por Região\")\n",
    "display(grafico_soma_analise_regiao_x_faturamento)\n",
    "\n"
   ]
  }
 ],
 "metadata": {
  "kernelspec": {
   "display_name": "Python 3",
   "language": "python",
   "name": "python3"
  },
  "language_info": {
   "codemirror_mode": {
    "name": "ipython",
    "version": 3
   },
   "file_extension": ".py",
   "mimetype": "text/x-python",
   "name": "python",
   "nbconvert_exporter": "python",
   "pygments_lexer": "ipython3",
   "version": "3.9.6"
  }
 },
 "nbformat": 4,
 "nbformat_minor": 5
}
